{
  "nbformat": 4,
  "nbformat_minor": 0,
  "metadata": {
    "colab": {
      "provenance": [],
      "authorship_tag": "ABX9TyODhg9WYI53ycZVp0jwQyuv",
      "include_colab_link": true
    },
    "kernelspec": {
      "name": "python3",
      "display_name": "Python 3"
    },
    "language_info": {
      "name": "python"
    }
  },
  "cells": [
    {
      "cell_type": "markdown",
      "metadata": {
        "id": "view-in-github",
        "colab_type": "text"
      },
      "source": [
        "<a href=\"https://colab.research.google.com/github/HackSlash79/Iris/blob/main/CS4410Homework3.ipynb\" target=\"_parent\"><img src=\"https://colab.research.google.com/assets/colab-badge.svg\" alt=\"Open In Colab\"/></a>"
      ]
    },
    {
      "cell_type": "markdown",
      "source": [
        "Import Iris dataset and necessary packages"
      ],
      "metadata": {
        "id": "ESeoRB5AYJ72"
      }
    },
    {
      "cell_type": "code",
      "execution_count": null,
      "metadata": {
        "id": "jqH1z1DbWnm7"
      },
      "outputs": [],
      "source": [
        "from sklearn.datasets import load_iris\n",
        "from sklearn.neighbors import KNeighborsClassifier\n",
        "from sklearn.model_selection import cross_val_score\n",
        "import matplotlib.pyplot as plt\n",
        "import numpy as np\n",
        "\n",
        "%matplotlib inline"
      ]
    },
    {
      "cell_type": "markdown",
      "source": [
        "Read in Iris Data"
      ],
      "metadata": {
        "id": "8J99o0veYV2i"
      }
    },
    {
      "cell_type": "code",
      "source": [
        "iris = load_iris()\n",
        "\n",
        "X = iris.data\n",
        "y = iris.target"
      ],
      "metadata": {
        "id": "JrtS_5zBYamQ"
      },
      "execution_count": null,
      "outputs": []
    },
    {
      "cell_type": "markdown",
      "source": [
        "10 fold cross-validation with k=11 for KNN (n_neighbors parameter)"
      ],
      "metadata": {
        "id": "_xObKBZDY6pp"
      }
    },
    {
      "cell_type": "code",
      "source": [
        "knn = KNeighborsClassifier(n_neighbors= 11)\n",
        "scores = cross_val_score(knn, X, y, cv = 10, scoring = 'accuracy')\n",
        "print (scores)"
      ],
      "metadata": {
        "colab": {
          "base_uri": "https://localhost:8080/"
        },
        "id": "x6MZnGyNY5Sf",
        "outputId": "3c6b91f8-54af-4dc4-dcc9-b39163eee229"
      },
      "execution_count": null,
      "outputs": [
        {
          "output_type": "stream",
          "name": "stdout",
          "text": [
            "[1.         0.93333333 1.         1.         1.         0.86666667\n",
            " 0.93333333 0.93333333 1.         1.        ]\n"
          ]
        }
      ]
    },
    {
      "cell_type": "code",
      "source": [
        "print (scores.mean())"
      ],
      "metadata": {
        "colab": {
          "base_uri": "https://localhost:8080/"
        },
        "id": "uDxg1FlxbFJ2",
        "outputId": "934a5ce3-7416-4e48-c516-1537f4a0da4d"
      },
      "execution_count": null,
      "outputs": [
        {
          "output_type": "stream",
          "name": "stdout",
          "text": [
            "0.9666666666666668\n"
          ]
        }
      ]
    },
    {
      "cell_type": "markdown",
      "source": [
        "Search for optimal value of K for KNN"
      ],
      "metadata": {
        "id": "7rEmnqQbcNrX"
      }
    },
    {
      "cell_type": "code",
      "source": [
        "k_range = range(1, 31)\n",
        "k_scores = []\n",
        "for k in k_range:\n",
        "    knn = KNeighborsClassifier(n_neighbors= k)\n",
        "    scores = cross_val_score(knn, X, y, cv= 10)\n",
        "    k_scores.append(scores.mean())\n",
        "print (k_scores)\n",
        "\n"
      ],
      "metadata": {
        "colab": {
          "base_uri": "https://localhost:8080/"
        },
        "id": "E3n0wqe8cRcQ",
        "outputId": "9adc436c-313a-4f41-bacc-ccf70505d641"
      },
      "execution_count": null,
      "outputs": [
        {
          "output_type": "stream",
          "name": "stdout",
          "text": [
            "[0.96, 0.9533333333333334, 0.9666666666666666, 0.9666666666666666, 0.9666666666666668, 0.9666666666666668, 0.9666666666666668, 0.9666666666666668, 0.9733333333333334, 0.9666666666666668, 0.9666666666666668, 0.9733333333333334, 0.9800000000000001, 0.9733333333333334, 0.9733333333333334, 0.9733333333333334, 0.9733333333333334, 0.9800000000000001, 0.9733333333333334, 0.9800000000000001, 0.9666666666666666, 0.9666666666666666, 0.9733333333333334, 0.96, 0.9666666666666666, 0.96, 0.9666666666666666, 0.9533333333333334, 0.9533333333333334, 0.9533333333333334]\n"
          ]
        }
      ]
    },
    {
      "cell_type": "markdown",
      "source": [
        "Plot the value of K for KNN (x axis) verus the cross-validated accuracy (y axis)"
      ],
      "metadata": {
        "id": "s9g6REfVl9Gq"
      }
    },
    {
      "cell_type": "code",
      "source": [
        "plt.plot(k_range, k_scores)\n",
        "plt.xlabel('Value of K for Knn')\n",
        "plt.ylabel('Cross-Validated Accuracy')"
      ],
      "metadata": {
        "colab": {
          "base_uri": "https://localhost:8080/",
          "height": 296
        },
        "id": "0n0QQgbgmJ3b",
        "outputId": "0e3759a1-be5b-48e1-e15f-e042085a5c44"
      },
      "execution_count": null,
      "outputs": [
        {
          "output_type": "execute_result",
          "data": {
            "text/plain": [
              "Text(0, 0.5, 'Cross-Validated Accuracy')"
            ]
          },
          "metadata": {},
          "execution_count": 20
        },
        {
          "output_type": "display_data",
          "data": {
            "text/plain": [
              "<Figure size 432x288 with 1 Axes>"
            ],
            "image/png": "[encoded data removed]"
          },
          "metadata": {
            "needs_background": "light"
          }
        }
      ]
    },
    {
      "cell_type": "code",
      "source": [
        "from sklearn.model_selection import GridSearchCV"
      ],
      "metadata": {
        "id": "Sd14BuEpqmcc"
      },
      "execution_count": null,
      "outputs": []
    },
    {
      "cell_type": "markdown",
      "source": [
        "Define parameter values that should be searched"
      ],
      "metadata": {
        "id": "sk7kkLtvq7zN"
      }
    },
    {
      "cell_type": "code",
      "source": [
        "k_range = range(1, 31)\n"
      ],
      "metadata": {
        "id": "iu1JGLIerAZv"
      },
      "execution_count": null,
      "outputs": []
    },
    {
      "cell_type": "markdown",
      "source": [
        "Create a paramenter grid. Map the parameter names to the values that should be searched"
      ],
      "metadata": {
        "id": "1W44bmUJrwZj"
      }
    },
    {
      "cell_type": "code",
      "source": [
        "param_grid = dict(n_neighbors=k_range)\n",
        "print (param_grid)"
      ],
      "metadata": {
        "colab": {
          "base_uri": "https://localhost:8080/"
        },
        "id": "IK3Qn12sr7C_",
        "outputId": "5a3410ed-399c-4515-a017-7a0aa16a8e77"
      },
      "execution_count": null,
      "outputs": [
        {
          "output_type": "stream",
          "name": "stdout",
          "text": [
            "{'n_neighbors': range(1, 31)}\n"
          ]
        }
      ]
    },
    {
      "cell_type": "markdown",
      "source": [
        "Instantiate the grid"
      ],
      "metadata": {
        "id": "nx4EHYc_so-S"
      }
    },
    {
      "cell_type": "code",
      "source": [
        "grid = GridSearchCV(knn, param_grid, cv= 10, scoring= 'accuracy')"
      ],
      "metadata": {
        "id": "6Jd6nuoFsrZz"
      },
      "execution_count": null,
      "outputs": []
    },
    {
      "cell_type": "markdown",
      "source": [
        "Fit the grid with data"
      ],
      "metadata": {
        "id": "fsgNvq2jtDzx"
      }
    },
    {
      "cell_type": "code",
      "source": [
        "grid.fit(X, y)"
      ],
      "metadata": {
        "colab": {
          "base_uri": "https://localhost:8080/"
        },
        "id": "Y9J431k-tGN8",
        "outputId": "047abccc-a65b-48a9-9a50-6ec6628514d4"
      },
      "execution_count": null,
      "outputs": [
        {
          "output_type": "execute_result",
          "data": {
            "text/plain": [
              "GridSearchCV(cv=10, estimator=KNeighborsClassifier(n_neighbors=30),\n",
              "             param_grid={'n_neighbors': range(1, 31)}, scoring='accuracy')"
            ]
          },
          "metadata": {},
          "execution_count": 33
        }
      ]
    },
    {
      "cell_type": "markdown",
      "source": [
        "View the results"
      ],
      "metadata": {
        "id": "s8PT1yeVtixB"
      }
    },
    {
      "cell_type": "code",
      "source": [
        "grid.cv_results_"
      ],
      "metadata": {
        "colab": {
          "base_uri": "https://localhost:8080/"
        },
        "id": "YOeoCKMztlzn",
        "outputId": "459ca7dc-d9e6-4b39-ead4-41db1dcccb1d"
      },
      "execution_count": null,
      "outputs": [
        {
          "output_type": "execute_result",
          "data": {
            "text/plain": [
              "{'mean_fit_time': array([0.00066967, 0.00056345, 0.00055306, 0.00055692, 0.00058377,\n",
              "        0.00054622, 0.00054696, 0.00055802, 0.00056942, 0.00056009,\n",
              "        0.00058894, 0.00054259, 0.00067863, 0.00053236, 0.00055521,\n",
              "        0.00060098, 0.00054474, 0.00073419, 0.00054464, 0.00055776,\n",
              "        0.00053301, 0.00054579, 0.00058198, 0.00054152, 0.00069273,\n",
              "        0.00054016, 0.00052283, 0.00054319, 0.00070999, 0.00060215]),\n",
              " 'std_fit_time': array([2.66050091e-04, 9.94617076e-05, 2.30549780e-05, 6.30626336e-05,\n",
              "        8.05756920e-05, 3.05032324e-05, 3.86871081e-05, 5.94532235e-05,\n",
              "        3.47245918e-05, 2.00120551e-05, 5.70297839e-05, 1.34239611e-05,\n",
              "        1.44107029e-04, 1.54264190e-05, 2.55888898e-05, 1.38693112e-04,\n",
              "        1.27676655e-05, 3.42732860e-04, 2.00416876e-05, 5.34156807e-05,\n",
              "        7.67559724e-06, 1.99642784e-05, 9.01603744e-05, 3.87391675e-06,\n",
              "        2.34804786e-04, 1.55324535e-05, 1.62031519e-05, 1.17175152e-05,\n",
              "        1.37892512e-04, 9.43648086e-05]),\n",
              " 'mean_score_time': array([0.00129428, 0.00119948, 0.00116999, 0.00115838, 0.00118458,\n",
              "        0.00113561, 0.00117116, 0.00113764, 0.00127008, 0.00118644,\n",
              "        0.00134039, 0.00123382, 0.00138648, 0.00118082, 0.00117557,\n",
              "        0.00132117, 0.00119293, 0.00151052, 0.0011585 , 0.00128903,\n",
              "        0.00115404, 0.0011862 , 0.00126889, 0.00116382, 0.00153694,\n",
              "        0.00119712, 0.0011802 , 0.0011694 , 0.00160952, 0.00129209]),\n",
              " 'std_score_time': array([4.68363067e-04, 1.36928006e-04, 7.50542331e-05, 7.35061299e-05,\n",
              "        1.47606837e-04, 2.65308463e-05, 6.44460723e-05, 1.68992192e-05,\n",
              "        1.21648133e-04, 4.66108078e-05, 2.78543376e-04, 1.40937246e-04,\n",
              "        2.88930052e-04, 7.87502774e-05, 2.95871693e-05, 4.63893551e-04,\n",
              "        6.72127516e-05, 4.75644040e-04, 1.45952096e-05, 2.08541426e-04,\n",
              "        6.99928083e-06, 3.42795925e-05, 1.62429749e-04, 1.39417596e-05,\n",
              "        6.04804622e-04, 6.72284126e-05, 3.79971378e-05, 1.71677271e-05,\n",
              "        3.46803026e-04, 1.45657097e-04]),\n",
              " 'param_n_neighbors': masked_array(data=[1, 2, 3, 4, 5, 6, 7, 8, 9, 10, 11, 12, 13, 14, 15, 16,\n",
              "                    17, 18, 19, 20, 21, 22, 23, 24, 25, 26, 27, 28, 29, 30],\n",
              "              mask=[False, False, False, False, False, False, False, False,\n",
              "                    False, False, False, False, False, False, False, False,\n",
              "                    False, False, False, False, False, False, False, False,\n",
              "                    False, False, False, False, False, False],\n",
              "        fill_value='?',\n",
              "             dtype=object),\n",
              " 'params': [{'n_neighbors': 1},\n",
              "  {'n_neighbors': 2},\n",
              "  {'n_neighbors': 3},\n",
              "  {'n_neighbors': 4},\n",
              "  {'n_neighbors': 5},\n",
              "  {'n_neighbors': 6},\n",
              "  {'n_neighbors': 7},\n",
              "  {'n_neighbors': 8},\n",
              "  {'n_neighbors': 9},\n",
              "  {'n_neighbors': 10},\n",
              "  {'n_neighbors': 11},\n",
              "  {'n_neighbors': 12},\n",
              "  {'n_neighbors': 13},\n",
              "  {'n_neighbors': 14},\n",
              "  {'n_neighbors': 15},\n",
              "  {'n_neighbors': 16},\n",
              "  {'n_neighbors': 17},\n",
              "  {'n_neighbors': 18},\n",
              "  {'n_neighbors': 19},\n",
              "  {'n_neighbors': 20},\n",
              "  {'n_neighbors': 21},\n",
              "  {'n_neighbors': 22},\n",
              "  {'n_neighbors': 23},\n",
              "  {'n_neighbors': 24},\n",
              "  {'n_neighbors': 25},\n",
              "  {'n_neighbors': 26},\n",
              "  {'n_neighbors': 27},\n",
              "  {'n_neighbors': 28},\n",
              "  {'n_neighbors': 29},\n",
              "  {'n_neighbors': 30}],\n",
              " 'split0_test_score': array([1.        , 1.        , 1.        , 1.        , 1.        ,\n",
              "        1.        , 1.        , 1.        , 1.        , 1.        ,\n",
              "        1.        , 1.        , 1.        , 1.        , 0.93333333,\n",
              "        1.        , 0.93333333, 1.        , 0.93333333, 1.        ,\n",
              "        0.93333333, 0.93333333, 0.93333333, 0.93333333, 0.93333333,\n",
              "        0.93333333, 0.93333333, 0.93333333, 0.93333333, 0.93333333]),\n",
              " 'split1_test_score': array([0.93333333, 0.93333333, 0.93333333, 0.93333333, 0.93333333,\n",
              "        0.93333333, 0.93333333, 0.93333333, 0.93333333, 0.93333333,\n",
              "        0.93333333, 0.93333333, 0.93333333, 0.93333333, 0.93333333,\n",
              "        0.93333333, 0.93333333, 0.93333333, 0.93333333, 0.93333333,\n",
              "        0.93333333, 0.93333333, 0.93333333, 0.93333333, 0.93333333,\n",
              "        0.93333333, 0.93333333, 0.93333333, 0.93333333, 0.93333333]),\n",
              " 'split2_test_score': array([1., 1., 1., 1., 1., 1., 1., 1., 1., 1., 1., 1., 1., 1., 1., 1., 1.,\n",
              "        1., 1., 1., 1., 1., 1., 1., 1., 1., 1., 1., 1., 1.]),\n",
              " 'split3_test_score': array([0.93333333, 0.93333333, 0.93333333, 0.93333333, 1.        ,\n",
              "        1.        , 1.        , 1.        , 1.        , 1.        ,\n",
              "        1.        , 1.        , 1.        , 1.        , 1.        ,\n",
              "        1.        , 1.        , 1.        , 1.        , 1.        ,\n",
              "        1.        , 1.        , 1.        , 1.        , 1.        ,\n",
              "        1.        , 1.        , 0.93333333, 0.93333333, 0.93333333]),\n",
              " 'split4_test_score': array([0.86666667, 0.86666667, 0.86666667, 0.86666667, 0.86666667,\n",
              "        0.86666667, 0.86666667, 1.        , 1.        , 1.        ,\n",
              "        1.        , 1.        , 1.        , 1.        , 1.        ,\n",
              "        1.        , 1.        , 1.        , 1.        , 1.        ,\n",
              "        0.93333333, 1.        , 1.        , 1.        , 1.        ,\n",
              "        1.        , 1.        , 1.        , 1.        , 1.        ]),\n",
              " 'split5_test_score': array([1.        , 1.        , 1.        , 1.        , 0.93333333,\n",
              "        0.93333333, 0.93333333, 0.86666667, 0.93333333, 0.86666667,\n",
              "        0.86666667, 0.93333333, 0.93333333, 0.86666667, 0.93333333,\n",
              "        0.93333333, 0.93333333, 0.93333333, 0.93333333, 0.93333333,\n",
              "        0.93333333, 0.93333333, 0.93333333, 0.86666667, 0.93333333,\n",
              "        0.86666667, 0.86666667, 0.86666667, 0.86666667, 0.86666667]),\n",
              " 'split6_test_score': array([0.86666667, 0.86666667, 0.93333333, 0.93333333, 0.93333333,\n",
              "        0.93333333, 0.93333333, 0.93333333, 0.93333333, 0.93333333,\n",
              "        0.93333333, 0.93333333, 0.93333333, 0.93333333, 0.93333333,\n",
              "        0.93333333, 0.93333333, 0.93333333, 0.93333333, 0.93333333,\n",
              "        0.93333333, 0.93333333, 0.93333333, 0.93333333, 0.93333333,\n",
              "        0.93333333, 0.93333333, 0.93333333, 0.93333333, 0.93333333]),\n",
              " 'split7_test_score': array([1.        , 0.93333333, 1.        , 1.        , 1.        ,\n",
              "        1.        , 1.        , 0.93333333, 0.93333333, 0.93333333,\n",
              "        0.93333333, 0.93333333, 1.        , 1.        , 1.        ,\n",
              "        0.93333333, 1.        , 1.        , 1.        , 1.        ,\n",
              "        1.        , 0.93333333, 1.        , 0.93333333, 0.93333333,\n",
              "        0.93333333, 1.        , 0.93333333, 0.93333333, 0.93333333]),\n",
              " 'split8_test_score': array([1., 1., 1., 1., 1., 1., 1., 1., 1., 1., 1., 1., 1., 1., 1., 1., 1.,\n",
              "        1., 1., 1., 1., 1., 1., 1., 1., 1., 1., 1., 1., 1.]),\n",
              " 'split9_test_score': array([1., 1., 1., 1., 1., 1., 1., 1., 1., 1., 1., 1., 1., 1., 1., 1., 1.,\n",
              "        1., 1., 1., 1., 1., 1., 1., 1., 1., 1., 1., 1., 1.]),\n",
              " 'mean_test_score': array([0.96      , 0.95333333, 0.96666667, 0.96666667, 0.96666667,\n",
              "        0.96666667, 0.96666667, 0.96666667, 0.97333333, 0.96666667,\n",
              "        0.96666667, 0.97333333, 0.98      , 0.97333333, 0.97333333,\n",
              "        0.97333333, 0.97333333, 0.98      , 0.97333333, 0.98      ,\n",
              "        0.96666667, 0.96666667, 0.97333333, 0.96      , 0.96666667,\n",
              "        0.96      , 0.96666667, 0.95333333, 0.95333333, 0.95333333]),\n",
              " 'std_test_score': array([0.05333333, 0.05206833, 0.04472136, 0.04472136, 0.04472136,\n",
              "        0.04472136, 0.04472136, 0.04472136, 0.03265986, 0.04472136,\n",
              "        0.04472136, 0.03265986, 0.0305505 , 0.04422166, 0.03265986,\n",
              "        0.03265986, 0.03265986, 0.0305505 , 0.03265986, 0.0305505 ,\n",
              "        0.03333333, 0.03333333, 0.03265986, 0.04422166, 0.03333333,\n",
              "        0.04422166, 0.04472136, 0.04268749, 0.04268749, 0.04268749]),\n",
              " 'rank_test_score': array([24, 27, 18, 18, 12, 12, 12, 12,  4, 12, 12,  4,  1,  4,  4,  4,  4,\n",
              "         1,  4,  1, 18, 18,  4, 24, 18, 24, 18, 27, 27, 27], dtype=int32)}"
            ]
          },
          "metadata": {},
          "execution_count": 36
        }
      ]
    },
    {
      "cell_type": "markdown",
      "source": [
        "Show optimal parameter, score, and estimator"
      ],
      "metadata": {
        "id": "r1yWYt4_wF2G"
      }
    },
    {
      "cell_type": "code",
      "source": [
        "print(grid.best_params_)\n",
        "print(grid.best_score_)\n",
        "print(grid.best_estimator_)\n"
      ],
      "metadata": {
        "colab": {
          "base_uri": "https://localhost:8080/"
        },
        "id": "G0TzRvWPwJJs",
        "outputId": "bf303507-ca47-4bd7-c17a-9ec27495c815"
      },
      "execution_count": null,
      "outputs": [
        {
          "output_type": "stream",
          "name": "stdout",
          "text": [
            "{'n_neighbors': 13}\n",
            "0.9800000000000001\n",
            "KNeighborsClassifier(n_neighbors=13)\n"
          ]
        }
      ]
    }
  ]
}